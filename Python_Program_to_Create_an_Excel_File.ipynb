{
  "nbformat": 4,
  "nbformat_minor": 0,
  "metadata": {
    "colab": {
      "name": "Python Program to Create an Excel File.ipynb",
      "provenance": [],
      "authorship_tag": "ABX9TyO8y8KqaZad+LHm1Gx0bTHI",
      "include_colab_link": true
    },
    "kernelspec": {
      "name": "python3",
      "display_name": "Python 3"
    },
    "language_info": {
      "name": "python"
    }
  },
  "cells": [
    {
      "cell_type": "markdown",
      "metadata": {
        "id": "view-in-github",
        "colab_type": "text"
      },
      "source": [
        "<a href=\"https://colab.research.google.com/github/RemyaRS/Yoshops-Tasks/blob/main/Python_Program_to_Create_an_Excel_File.ipynb\" target=\"_parent\"><img src=\"https://colab.research.google.com/assets/colab-badge.svg\" alt=\"Open In Colab\"/></a>"
      ]
    },
    {
      "cell_type": "markdown",
      "source": [
        "#Importing Required Libraies"
      ],
      "metadata": {
        "id": "UPSh6aHXdYeS"
      }
    },
    {
      "cell_type": "code",
      "execution_count": 1,
      "metadata": {
        "id": "RAsEoLYPlSR2",
        "colab": {
          "base_uri": "https://localhost:8080/"
        },
        "outputId": "b4873eae-66c3-4c5a-824f-8f01b3fd123b"
      },
      "outputs": [
        {
          "output_type": "stream",
          "name": "stdout",
          "text": [
            "Looking in indexes: https://pypi.org/simple, https://us-python.pkg.dev/colab-wheels/public/simple/\n",
            "Collecting xlsxwriter\n",
            "  Downloading XlsxWriter-3.0.3-py3-none-any.whl (149 kB)\n",
            "\u001b[K     |████████████████████████████████| 149 kB 7.5 MB/s \n",
            "\u001b[?25hInstalling collected packages: xlsxwriter\n",
            "Successfully installed xlsxwriter-3.0.3\n"
          ]
        }
      ],
      "source": [
        "!pip install xlsxwriter"
      ]
    },
    {
      "cell_type": "code",
      "source": [
        "# import pandas to read excel sheet\n",
        "import pandas as pd\n",
        "\n",
        "# import xlsxwriter module\n",
        "import xlsxwriter"
      ],
      "metadata": {
        "id": "H0zojxH-dWvg"
      },
      "execution_count": 2,
      "outputs": []
    },
    {
      "cell_type": "markdown",
      "source": [
        "#Creating Excel Sheet"
      ],
      "metadata": {
        "id": "QjkuDxI6d308"
      }
    },
    {
      "cell_type": "code",
      "source": [
        "# which is the filename that we want to create.\n",
        "workbook = xlsxwriter.Workbook('Class.xlsx')\n",
        " \n",
        "# The workbook object is then used to add new\n",
        "# worksheet via the add_worksheet() method.\n",
        "worksheet = workbook.add_worksheet()\n",
        " \n",
        "# Use the worksheet object to write\n",
        "# data via the write() method.\n",
        "worksheet.write('A1', 'Name')\n",
        "worksheet.write('B1', 'Class')\n",
        "worksheet.write('C1', 'Division')\n",
        "worksheet.write('D1', 'Marks')\n",
        "\n",
        "worksheet.write('A2', 'Stephi')\n",
        "worksheet.write('B2', 'V')\n",
        "worksheet.write('C2', 'A')\n",
        "worksheet.write('D2', '78')\n",
        "\n",
        "worksheet.write('A3', 'Amartya')\n",
        "worksheet.write('B3', 'V')\n",
        "worksheet.write('C3', 'B')\n",
        "worksheet.write('D3', '96')\n",
        "\n",
        "worksheet.write('A4', 'Saptashri')\n",
        "worksheet.write('B4', 'V')\n",
        "worksheet.write('C4', 'A')\n",
        "worksheet.write('D4', '89')\n",
        "\n",
        "worksheet.write('A5', 'Ismail')\n",
        "worksheet.write('B5', 'V')\n",
        "worksheet.write('C5', 'C')\n",
        "worksheet.write('D5', '96')\n",
        " \n",
        "# Finally, close the Excel file\n",
        "# via the close() method.\n",
        "workbook.close()"
      ],
      "metadata": {
        "id": "jLjD0nLsajuV"
      },
      "execution_count": 3,
      "outputs": []
    },
    {
      "cell_type": "markdown",
      "source": [
        "# Reading the excel file"
      ],
      "metadata": {
        "id": "RRjM5frLc9pe"
      }
    },
    {
      "cell_type": "code",
      "source": [
        "file = pd.read_excel('Class.xlsx')"
      ],
      "metadata": {
        "id": "vzhg5e0ga_Np"
      },
      "execution_count": 4,
      "outputs": []
    },
    {
      "cell_type": "markdown",
      "source": [
        "#Excel file"
      ],
      "metadata": {
        "id": "nSYk53-AdD1C"
      }
    },
    {
      "cell_type": "code",
      "source": [
        "file.head()"
      ],
      "metadata": {
        "colab": {
          "base_uri": "https://localhost:8080/",
          "height": 175
        },
        "id": "G2uxoveTbXGM",
        "outputId": "de967adf-66ce-4380-a944-f6f2bc85d10d"
      },
      "execution_count": 5,
      "outputs": [
        {
          "output_type": "execute_result",
          "data": {
            "text/plain": [
              "        Name Class Division  Marks\n",
              "0     Stephi     V        A     78\n",
              "1    Amartya     V        B     96\n",
              "2  Saptashri     V        A     89\n",
              "3     Ismail     V        C     96"
            ],
            "text/html": [
              "\n",
              "  <div id=\"df-bb32f91b-0cd4-48ea-aca4-4f450b6e554a\">\n",
              "    <div class=\"colab-df-container\">\n",
              "      <div>\n",
              "<style scoped>\n",
              "    .dataframe tbody tr th:only-of-type {\n",
              "        vertical-align: middle;\n",
              "    }\n",
              "\n",
              "    .dataframe tbody tr th {\n",
              "        vertical-align: top;\n",
              "    }\n",
              "\n",
              "    .dataframe thead th {\n",
              "        text-align: right;\n",
              "    }\n",
              "</style>\n",
              "<table border=\"1\" class=\"dataframe\">\n",
              "  <thead>\n",
              "    <tr style=\"text-align: right;\">\n",
              "      <th></th>\n",
              "      <th>Name</th>\n",
              "      <th>Class</th>\n",
              "      <th>Division</th>\n",
              "      <th>Marks</th>\n",
              "    </tr>\n",
              "  </thead>\n",
              "  <tbody>\n",
              "    <tr>\n",
              "      <th>0</th>\n",
              "      <td>Stephi</td>\n",
              "      <td>V</td>\n",
              "      <td>A</td>\n",
              "      <td>78</td>\n",
              "    </tr>\n",
              "    <tr>\n",
              "      <th>1</th>\n",
              "      <td>Amartya</td>\n",
              "      <td>V</td>\n",
              "      <td>B</td>\n",
              "      <td>96</td>\n",
              "    </tr>\n",
              "    <tr>\n",
              "      <th>2</th>\n",
              "      <td>Saptashri</td>\n",
              "      <td>V</td>\n",
              "      <td>A</td>\n",
              "      <td>89</td>\n",
              "    </tr>\n",
              "    <tr>\n",
              "      <th>3</th>\n",
              "      <td>Ismail</td>\n",
              "      <td>V</td>\n",
              "      <td>C</td>\n",
              "      <td>96</td>\n",
              "    </tr>\n",
              "  </tbody>\n",
              "</table>\n",
              "</div>\n",
              "      <button class=\"colab-df-convert\" onclick=\"convertToInteractive('df-bb32f91b-0cd4-48ea-aca4-4f450b6e554a')\"\n",
              "              title=\"Convert this dataframe to an interactive table.\"\n",
              "              style=\"display:none;\">\n",
              "        \n",
              "  <svg xmlns=\"http://www.w3.org/2000/svg\" height=\"24px\"viewBox=\"0 0 24 24\"\n",
              "       width=\"24px\">\n",
              "    <path d=\"M0 0h24v24H0V0z\" fill=\"none\"/>\n",
              "    <path d=\"M18.56 5.44l.94 2.06.94-2.06 2.06-.94-2.06-.94-.94-2.06-.94 2.06-2.06.94zm-11 1L8.5 8.5l.94-2.06 2.06-.94-2.06-.94L8.5 2.5l-.94 2.06-2.06.94zm10 10l.94 2.06.94-2.06 2.06-.94-2.06-.94-.94-2.06-.94 2.06-2.06.94z\"/><path d=\"M17.41 7.96l-1.37-1.37c-.4-.4-.92-.59-1.43-.59-.52 0-1.04.2-1.43.59L10.3 9.45l-7.72 7.72c-.78.78-.78 2.05 0 2.83L4 21.41c.39.39.9.59 1.41.59.51 0 1.02-.2 1.41-.59l7.78-7.78 2.81-2.81c.8-.78.8-2.07 0-2.86zM5.41 20L4 18.59l7.72-7.72 1.47 1.35L5.41 20z\"/>\n",
              "  </svg>\n",
              "      </button>\n",
              "      \n",
              "  <style>\n",
              "    .colab-df-container {\n",
              "      display:flex;\n",
              "      flex-wrap:wrap;\n",
              "      gap: 12px;\n",
              "    }\n",
              "\n",
              "    .colab-df-convert {\n",
              "      background-color: #E8F0FE;\n",
              "      border: none;\n",
              "      border-radius: 50%;\n",
              "      cursor: pointer;\n",
              "      display: none;\n",
              "      fill: #1967D2;\n",
              "      height: 32px;\n",
              "      padding: 0 0 0 0;\n",
              "      width: 32px;\n",
              "    }\n",
              "\n",
              "    .colab-df-convert:hover {\n",
              "      background-color: #E2EBFA;\n",
              "      box-shadow: 0px 1px 2px rgba(60, 64, 67, 0.3), 0px 1px 3px 1px rgba(60, 64, 67, 0.15);\n",
              "      fill: #174EA6;\n",
              "    }\n",
              "\n",
              "    [theme=dark] .colab-df-convert {\n",
              "      background-color: #3B4455;\n",
              "      fill: #D2E3FC;\n",
              "    }\n",
              "\n",
              "    [theme=dark] .colab-df-convert:hover {\n",
              "      background-color: #434B5C;\n",
              "      box-shadow: 0px 1px 3px 1px rgba(0, 0, 0, 0.15);\n",
              "      filter: drop-shadow(0px 1px 2px rgba(0, 0, 0, 0.3));\n",
              "      fill: #FFFFFF;\n",
              "    }\n",
              "  </style>\n",
              "\n",
              "      <script>\n",
              "        const buttonEl =\n",
              "          document.querySelector('#df-bb32f91b-0cd4-48ea-aca4-4f450b6e554a button.colab-df-convert');\n",
              "        buttonEl.style.display =\n",
              "          google.colab.kernel.accessAllowed ? 'block' : 'none';\n",
              "\n",
              "        async function convertToInteractive(key) {\n",
              "          const element = document.querySelector('#df-bb32f91b-0cd4-48ea-aca4-4f450b6e554a');\n",
              "          const dataTable =\n",
              "            await google.colab.kernel.invokeFunction('convertToInteractive',\n",
              "                                                     [key], {});\n",
              "          if (!dataTable) return;\n",
              "\n",
              "          const docLinkHtml = 'Like what you see? Visit the ' +\n",
              "            '<a target=\"_blank\" href=https://colab.research.google.com/notebooks/data_table.ipynb>data table notebook</a>'\n",
              "            + ' to learn more about interactive tables.';\n",
              "          element.innerHTML = '';\n",
              "          dataTable['output_type'] = 'display_data';\n",
              "          await google.colab.output.renderOutput(dataTable, element);\n",
              "          const docLink = document.createElement('div');\n",
              "          docLink.innerHTML = docLinkHtml;\n",
              "          element.appendChild(docLink);\n",
              "        }\n",
              "      </script>\n",
              "    </div>\n",
              "  </div>\n",
              "  "
            ]
          },
          "metadata": {},
          "execution_count": 5
        }
      ]
    }
  ]
}